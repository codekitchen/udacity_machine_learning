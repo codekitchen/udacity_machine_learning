{
 "cells": [
  {
   "cell_type": "code",
   "execution_count": 1,
   "metadata": {
    "collapsed": true
   },
   "outputs": [],
   "source": [
    "# https://www.tensorflow.org/get_started/mnist/beginners\n",
    "import tensorflow as tf\n",
    "import numpy as np"
   ]
  },
  {
   "cell_type": "code",
   "execution_count": 2,
   "metadata": {},
   "outputs": [
    {
     "name": "stdout",
     "output_type": "stream",
     "text": [
      "Extracting MNIST_data/train-images-idx3-ubyte.gz\n",
      "Extracting MNIST_data/train-labels-idx1-ubyte.gz\n",
      "Extracting MNIST_data/t10k-images-idx3-ubyte.gz\n",
      "Extracting MNIST_data/t10k-labels-idx1-ubyte.gz\n"
     ]
    }
   ],
   "source": [
    "from tensorflow.examples.tutorials.mnist import input_data\n",
    "mnist = input_data.read_data_sets(\"MNIST_data/\", one_hot=True)"
   ]
  },
  {
   "cell_type": "code",
   "execution_count": 3,
   "metadata": {
    "collapsed": true
   },
   "outputs": [],
   "source": [
    "# Basically we're just applying softmax to a linear equation (y = softmax(Wx + b))\n",
    "# and optimizing the Ws and bs on that.\n",
    "with tf.name_scope(\"simple\"):\n",
    "    x = tf.placeholder(tf.float32, [None, 784])\n",
    "    W = tf.Variable(tf.zeros([784, 10]))\n",
    "    b = tf.Variable(tf.zeros([10]))\n",
    "    y = tf.nn.softmax(x @ W + b)"
   ]
  },
  {
   "cell_type": "code",
   "execution_count": 4,
   "metadata": {
    "collapsed": true
   },
   "outputs": [],
   "source": [
    "with tf.name_scope(\"simple\"):\n",
    "    # y_ is the true values\n",
    "    y_ = tf.placeholder(tf.float32, [None, 10])\n",
    "    # cross_entropy = -tf.reduce_sum(y_ * tf.log(y), reduction_indices=[1])\n",
    "    cross_entropy = tf.reduce_mean(tf.nn.softmax_cross_entropy_with_logits(labels=y_, logits=y))\n",
    "    train_step = tf.train.GradientDescentOptimizer(0.5).minimize(cross_entropy)\n",
    "    correct_prediction = tf.equal(tf.argmax(y,1), tf.argmax(y_, 1))\n",
    "    accuracy = tf.reduce_mean(tf.cast(correct_prediction, tf.float32))"
   ]
  },
  {
   "cell_type": "code",
   "execution_count": 5,
   "metadata": {
    "collapsed": true
   },
   "outputs": [],
   "source": [
    "sess = tf.InteractiveSession()\n",
    "tf.global_variables_initializer().run()"
   ]
  },
  {
   "cell_type": "code",
   "execution_count": 6,
   "metadata": {
    "collapsed": true
   },
   "outputs": [],
   "source": [
    "for _ in range(1000):\n",
    "    batch_xs, batch_ys = mnist.train.next_batch(100)\n",
    "    sess.run(train_step, {x: batch_xs, y_: batch_ys})"
   ]
  },
  {
   "cell_type": "code",
   "execution_count": 7,
   "metadata": {},
   "outputs": [
    {
     "data": {
      "text/plain": [
       "0.90640002"
      ]
     },
     "execution_count": 7,
     "metadata": {},
     "output_type": "execute_result"
    }
   ],
   "source": [
    "sess.run(accuracy, {x: mnist.test.images, y_: mnist.test.labels})"
   ]
  },
  {
   "cell_type": "code",
   "execution_count": 8,
   "metadata": {},
   "outputs": [],
   "source": [
    "# Now let's extend this to softmax running against a deep CNN\n",
    "\n",
    "# https://www.tensorflow.org/api_docs/python/tf/nn/conv2d\n",
    "\n",
    "# Reshape the input from [batch_size, 784] to square images [batch_size, 28, 28, 1]\n",
    "# The -1 says \"however many you need on this axis\", so we don't need to hard-code the batch size,\n",
    "# and the final 1 is because there's one channel (grayscale images)\n",
    "x_image = tf.reshape(x, [-1, 28, 28, 1], name=\"input\")\n",
    "# This is the filter to the first conv2d layer. We are looking at 5x5 image patches,\n",
    "# there's 1 input channel, and we want to output 32 features.\n",
    "# We initialize the filter to random values with a stddev of 0.1. We could initialize to 0 but that\n",
    "# could cause symmetry issues.\n",
    "with tf.name_scope(\"conv1\") as scope:\n",
    "    W_conv1 = tf.Variable(tf.truncated_normal([5, 5, 1, 32], stddev=0.1), name=\"filter\")\n",
    "    # Each output feature also gets a bias component, defined here. We initialize to 0.1 to help avoid\n",
    "    # \"dead neurons\" that can happen when using relu activation and neurons get permanently stuck\n",
    "    # in below-zero values. (since relu is max(0, val))\n",
    "    b_conv1 = tf.Variable(tf.constant(0.1, shape=[32]), name=\"bias\")\n",
    "    # Finally, defining the actual conv layer. Stride is 4D because the input is\n",
    "    # typically it is [1, stride, stride, 1]\n",
    "    # We are computing 32 features, so the conv2d layer returns shape [batch_size, 28, 28, 32]\n",
    "    # In other words, we get back the original input but 32 channels of \"feature\" output at each pixel\n",
    "    # instead of the 1 color channel.\n",
    "    h_conv1 = tf.nn.relu(tf.nn.conv2d(x_image, W_conv1, strides = [1,1,1,1], padding='SAME') + b_conv1, name=\"conv\")\n",
    "    # Then, we add a max pooling layer. Because our stride is 2, this cuts each image dimension in half using max()\n",
    "    # giving a total reduction to 25% original size. Output shape is thus [batch_size, 14, 14, 32]\n",
    "    h_pool1 = tf.nn.max_pool(h_conv1, strides=[1, 2, 2, 1], ksize=[1, 2, 2, 1], padding='SAME', name=scope)\n",
    "\n",
    "# The second conv layer returns 64 features for each 5x5 patch. Same stddev as before.\n",
    "with tf.name_scope(\"conv2\") as scope:\n",
    "    W_conv2 = tf.Variable(tf.truncated_normal([5, 5, 32, 64], stddev=0.1), name=\"filter\")\n",
    "    b_conv2 = tf.Variable(tf.constant(0.1, shape=[64]), name=\"bias\")\n",
    "    h_conv2 = tf.nn.relu(tf.nn.conv2d(h_pool1, W_conv2, strides=[1,1,1,1], padding='SAME') + b_conv2, name=\"conv\")\n",
    "    # Reduce to 25% original size again. So we end up with shape [batch_size, 7, 7, 64]\n",
    "    h_pool2 = tf.nn.max_pool(h_conv2, strides=[1, 2, 2, 1], ksize=[1, 2, 2, 1], padding='SAME', name=scope)\n",
    "\n",
    "# Now we add a fully-connected layer with 1024 neurons to process the features found across the entire image.\n",
    "# First, reshape to [batch_size, 7*7*64] so that each image is flattened to a one-dimensional array.\n",
    "h_pool2_flat = tf.reshape(h_pool2, [-1, 7*7*64], name=\"flattened\")\n",
    "# Now, create the fully-connected layer.\n",
    "with tf.name_scope(\"fc1\") as scope:\n",
    "    # Weights\n",
    "    W_fc1 = tf.Variable(tf.truncated_normal([7*7*64, 1024], stddev=0.1), name=\"weights\")\n",
    "    # Biases\n",
    "    b_fc1 = tf.Variable(tf.constant(0.1, shape=[1024]), name=\"biases\")\n",
    "    # Create the layer. Using relu activation here as well. Relu seems to be popular in CNNs, not sure why yet\n",
    "    # other than \"it works best\".\n",
    "    h_fc1 = tf.nn.relu(h_pool2_flat @ W_fc1 + b_fc1, name=scope)\n",
    "\n",
    "# Now we add a dropout layer to help prevent over-fitting. The dropout layer randomly deactivates\n",
    "# some neurons during training.\n",
    "# Since we want to disable dropout during testing/use, we add a placeholder to control the\n",
    "# dropout probability (actually the inverse, the \"keep probability\", set to 100% during use)\n",
    "keep_prob = tf.placeholder(tf.float32, name=\"keep_prob\")\n",
    "h_fc1_drop = tf.nn.dropout(h_fc1, keep_prob, name=\"dropout\")\n",
    "\n",
    "# Lastly, the output layer (\"read layer\"), same as the simple softmax model above.\n",
    "with tf.name_scope(\"fc2\") as scope:\n",
    "    W_fc2 = tf.Variable(tf.truncated_normal([1024, 10], stddev=0.1), name=\"weights\")\n",
    "    b_fc2 = tf.Variable(tf.constant(0.1, shape=[10]), name=\"biases\")\n",
    "    y_conv = tf.identity(h_fc1_drop @ W_fc2 + b_fc2, name=scope)"
   ]
  },
  {
   "cell_type": "code",
   "execution_count": 9,
   "metadata": {},
   "outputs": [
    {
     "name": "stderr",
     "output_type": "stream",
     "text": [
      "accuracy 1.0: 100%|██████████| 20000/20000 [26:58<00:00, 12.90it/s]               \n"
     ]
    },
    {
     "name": "stdout",
     "output_type": "stream",
     "text": [
      "test accuracy 0.9919999837875366\n"
     ]
    }
   ],
   "source": [
    "# Training and testing is similar to the above.\n",
    "\n",
    "from tqdm import trange\n",
    "\n",
    "# cross_entropy = -tf.reduce_sum(y_ * tf.log(y), reduction_indices=[1])\n",
    "cross_entropy_conv = tf.reduce_mean(tf.nn.softmax_cross_entropy_with_logits(labels=y_, logits=y_conv), name=\"cross_entropy\")\n",
    "tf.summary.scalar('loss', cross_entropy_conv)\n",
    "train_step_conv = tf.train.AdamOptimizer(1e-4, name=\"train_step\").minimize(cross_entropy_conv)\n",
    "correct_prediction_conv = tf.equal(tf.argmax(y_conv,1), tf.argmax(y_, 1))\n",
    "accuracy_conv = tf.reduce_mean(tf.cast(correct_prediction_conv, tf.float32), name=\"accuracy\")\n",
    "tf.summary.scalar('accuracy', accuracy_conv)\n",
    "\n",
    "with tf.Session() as sess:\n",
    "    summary_data = tf.summary.merge_all()\n",
    "    writer = tf.summary.FileWriter(\"summary/\", sess.graph)\n",
    "    sess.run(tf.global_variables_initializer())\n",
    "    pbar = trange(20000)\n",
    "    for i in pbar:\n",
    "        batch = mnist.train.next_batch(50)\n",
    "        if i % 100 == 0:\n",
    "            train_accuracy, summary = sess.run([accuracy_conv, summary_data], {x: batch[0], y_: batch[1], keep_prob: 1.0})\n",
    "            pbar.set_description(\"accuracy {}\".format(train_accuracy))\n",
    "            writer.add_summary(summary, i)\n",
    "        train_step_conv.run({x: batch[0], y_: batch[1], keep_prob: 0.5})\n",
    "    print(\"test accuracy {}\".format(accuracy_conv.eval({x: mnist.test.images, y_: mnist.test.labels, keep_prob: 1.0})))"
   ]
  },
  {
   "cell_type": "code",
   "execution_count": null,
   "metadata": {
    "collapsed": true
   },
   "outputs": [],
   "source": []
  }
 ],
 "metadata": {
  "kernelspec": {
   "display_name": "Python 3",
   "language": "python",
   "name": "python3"
  },
  "language_info": {
   "codemirror_mode": {
    "name": "ipython",
    "version": 3
   },
   "file_extension": ".py",
   "mimetype": "text/x-python",
   "name": "python",
   "nbconvert_exporter": "python",
   "pygments_lexer": "ipython3",
   "version": "3.6.1"
  }
 },
 "nbformat": 4,
 "nbformat_minor": 2
}
