{
 "cells": [
  {
   "cell_type": "markdown",
   "metadata": {},
   "source": [
    "# Simple Linear Regression\n",
    "\n",
    "Linear regression with one input variable becomes just line-fitting.\n",
    "\n",
    "$$ \\hat{y}(x) = mx + b $$"
   ]
  },
  {
   "cell_type": "code",
   "execution_count": 1,
   "metadata": {},
   "outputs": [],
   "source": [
    "%matplotlib inline\n",
    "\n",
    "from __future__ import division\n",
    "\n",
    "import matplotlib.pyplot as plt\n",
    "import numpy as np"
   ]
  },
  {
   "cell_type": "code",
   "execution_count": 2,
   "metadata": {},
   "outputs": [
    {
     "data": {
      "image/png": "[encoded data removed]",
      "text/plain": [
       "<matplotlib.figure.Figure at 0x10f779080>"
      ]
     },
     "metadata": {},
     "output_type": "display_data"
    }
   ],
   "source": [
    "SLOPE = 2.25\n",
    "INTERCEPT = 6\n",
    "NOISE_STDDEV = 1.5\n",
    "\n",
    "def gen(x):\n",
    "    pos = SLOPE * x + INTERCEPT\n",
    "    return np.random.normal(pos, NOISE_STDDEV)\n",
    "\n",
    "data = np.array([[x, gen(x)] for x in np.random.uniform(-2, 2, 300)])\n",
    "line, = plt.plot(data[:, 0], data[:, 1], 'x')"
   ]
  },
  {
   "cell_type": "markdown",
   "metadata": {},
   "source": [
    "To fit the line, we first define a cost function. Mean Squared Error:\n",
    "\n",
    "$$ \\hat{y}(x) = mx + b $$\n",
    "$$ MSE(m, b) = \\frac{1}{n} \\sum\\limits_{i=1}^{n} (\\hat{y}_i - y_i)^2 $$\n",
    "$$ = \\frac{1}{n} \\sum\\limits_{i=1}^{n} (mx_i + b - y_i)^2 $$\n",
    "$$ = \\frac{1}{n} \\sum\\limits_{i=1}^{n} (mx_i)^2 + 2mx_ib - 2m x_i y_i + b^2 - 2by_i + y_i^2 $$"
   ]
  },
  {
   "cell_type": "code",
   "execution_count": 3,
   "metadata": {
    "collapsed": true
   },
   "outputs": [],
   "source": [
    "def mse(x: np.ndarray, y: np.ndarray, m: int, b: int):\n",
    "    \"\"\"MSE computed against a whole set of inputs at once.\n",
    "    \n",
    "    Args:\n",
    "        x: input xs, ndarray with dims [:, 1]\n",
    "        y: input ys, ndarray with dims [:, 1]\n",
    "        m: current slope\n",
    "        b: current intercept\n",
    "    \"\"\"\n",
    "    if isinstance(m, np.ndarray):\n",
    "        y_hat = x.dot(m) + b\n",
    "    else:\n",
    "        y_hat = m * x + b\n",
    "    diff = y_hat - y\n",
    "    total = np.sum(np.square(diff))\n",
    "    return total / len(x)"
   ]
  },
  {
   "cell_type": "markdown",
   "metadata": {},
   "source": [
    "To perform gradient descent, we find where the cost function (MSE here) decreases the fastest, and step in that direction. Repeat as needed. To find this direction of fastest decrease we'll need the derivatives:\n",
    "\n",
    "$$ \\frac{\\partial MSE}{\\partial m} = \\frac{1}{n} \\sum\\limits_{i=1}^{n} 2mx_i^2 + 2x_i b - 2x_i y_i $$\n",
    "$$ = \\frac{2}{n} \\sum\\limits_{i=1}^{n} mx_i^2 + x_i b - x_i y_i $$\n",
    "$$ = \\frac{2}{n} \\sum\\limits_{i=1}^{n} x_i(mx_i + b - y_i) $$\n",
    "$$ = \\frac{2}{n} \\sum\\limits_{i=1}^{n} x_i(\\hat{y}_i - y_i) $$\n",
    "\n",
    "$$ \\frac{\\partial MSE}{\\partial b} = \\frac{1}{n} \\sum\\limits_{i=1}^{n} 2mx_i + 2b - 2y_i $$\n",
    "$$ = \\frac{2}{n} \\sum\\limits_{i=1}^{n} mx_i + b - y_i $$\n",
    "$$ = \\frac{2}{n} \\sum\\limits_{i=1}^{n} \\hat{y}_i - y_i $$\n",
    "\n",
    "So for each descent, with hyperparameter $ \\alpha $ as our learning rate:\n",
    "\n",
    "$$ m = m - \\alpha \\frac{\\partial MSE}{\\partial m} $$\n",
    "$$ b = b - \\alpha \\frac{\\partial MSE}{\\partial b} $$\n",
    "\n",
    "\n"
   ]
  },
  {
   "cell_type": "code",
   "execution_count": 4,
   "metadata": {
    "collapsed": true
   },
   "outputs": [],
   "source": [
    "def gradient_descent(x: np.ndarray, y: np.ndarray, learning_rate=0.1):\n",
    "    \"\"\"Run gradient descent to fit a line y^ = x * m + b\n",
    "    \n",
    "    Args:\n",
    "        x: input xs, ndarray with dims [:, 1]\n",
    "        y: input ys, ndarray with dims [:, 1]\n",
    "        \n",
    "    At each step, yields `(m, b, cost)` where m, b are the line parameters and cost is the MSE for this step.\n",
    "    \"\"\"\n",
    "    m = 0\n",
    "    b = 0\n",
    "    n = len(x)\n",
    "    while True:\n",
    "        cost = mse(x, y, m, b)\n",
    "        yield m, b, cost\n",
    "        y_hat = m * x + b\n",
    "        diff = y_hat - y\n",
    "        m -= learning_rate * (2/n) * np.sum(x * diff)\n",
    "        b -= learning_rate * (2/n) * np.sum(diff)"
   ]
  },
  {
   "cell_type": "code",
   "execution_count": 5,
   "metadata": {},
   "outputs": [
    {
     "data": {
      "image/png": "[encoded data removed]",
      "text/plain": [
       "<matplotlib.figure.Figure at 0x11142e518>"
      ]
     },
     "metadata": {},
     "output_type": "display_data"
    }
   ],
   "source": [
    "train_op = gradient_descent(data[:, 0], data[:, 1])\n",
    "fit = np.array([next(train_op) for _ in range(30)])\n",
    "line, = plt.plot(fit[:, 0], fit[:, 1], 'o')"
   ]
  },
  {
   "cell_type": "code",
   "execution_count": 6,
   "metadata": {},
   "outputs": [
    {
     "data": {
      "image/png": "[encoded data removed]",
      "text/plain": [
       "<matplotlib.figure.Figure at 0x111650e10>"
      ]
     },
     "metadata": {},
     "output_type": "display_data"
    }
   ],
   "source": [
    "m, b, _ = fit[-1]\n",
    "g, = plt.plot(data[:, 0], data[:, 1], 'x')\n",
    "g, = plt.plot(data[:, 0], list(map(lambda x: m * x + b, data[:, 0])), '-')"
   ]
  },
  {
   "cell_type": "markdown",
   "metadata": {},
   "source": [
    "# Multiple Linear Regression\n",
    "\n",
    "Multivariate linear regression with multiple input variables. Single number $m$ becomes vector $\\theta$ and $\\hat{y}(x) = \\theta^T \\cdot x$ (dot product)\n",
    "\n",
    "Solving for one row at a time:\n",
    "\n",
    "$$ \\theta \\cdot x_i = \\theta_1 x_{i,1} + \\theta_2 x_{i,2} + ... + \\theta_j x_{i,j} $$\n",
    "$$ MSE = \\frac{1}{n} \\sum\\limits_{i=1}^{n} (\\hat{y}(x_i) - y_i)^2 $$\n",
    "$$ \\frac{\\partial MSE}{\\partial \\theta_j} = \\frac{1}{n} \\sum\\limits_{i=1}^{n} (\\hat{y}(x_i) - y_i)^2 $$\n",
    "$$ = \\frac{1}{n} \\sum\\limits_{i=1}^{n} \\frac{\\partial MSE}{\\partial \\theta_j}  (\\hat{y}(x_i) - y_i)^2 $$\n",
    "Using the chain rule:\n",
    "$$ = \\frac{1}{n} \\sum\\limits_{i=1}^{n} 2(\\hat{y}(x_i)-y_i) \\frac{\\partial MSE}{\\partial \\theta_j} (\\hat{y}(x_i) - y_i)  $$\n",
    "$$ = \\frac{1}{n} \\sum\\limits_{i=1}^{n} 2(\\hat{y}(x_i)-y_i) \\frac{\\partial MSE}{\\partial \\theta_j}(\\theta^T \\cdot x) - 0 $$\n",
    "For a given derivative $ \\frac{\\partial MSE}{\\partial \\theta_j} $ all components of the dot product $\\hat{y}(x)$ are $0$ except for at $\\theta_j$:\n",
    "$$ = \\frac{2}{n} \\sum\\limits_{i=1}^{n} (\\hat{y}(x_i)-y_i) x_{i,j} $$\n",
    "\n",
    "\n"
   ]
  },
  {
   "cell_type": "code",
   "execution_count": 7,
   "metadata": {
    "collapsed": true
   },
   "outputs": [],
   "source": [
    "def multiple_gradient_descent_1(x: np.ndarray, y: np.ndarray, lr = 0.1):\n",
    "    \"\"\"Run gradient descent to fit a multivariate equation y^ = x * m + b\n",
    "    \n",
    "    Args:\n",
    "        x: input xs, ndarray with dims [:, f]\n",
    "        y: input ys, ndarray with dims [:, 1]\n",
    "        \n",
    "    Where `f` is number of input features.\n",
    "    At each step, yields `(theta, b, cost)` where theta is a vector (ndarray [f]) of current parameters, b is the bias param, and cost is the MSE for this step.\n",
    "    Operates on each row of x individually.\n",
    "    \"\"\"\n",
    "    theta = np.zeros(x.shape[1])\n",
    "    b = 0\n",
    "    n = len(x)\n",
    "    while True:\n",
    "        cost = mse(x, y, theta, b)\n",
    "        yield theta, b, cost\n",
    "        theta = np.copy(theta)\n",
    "        for i in range(n):\n",
    "            xi = x[i]\n",
    "            yi = y[i]\n",
    "            y_hat = theta.T.dot(xi) + b\n",
    "            diff = y_hat - yi\n",
    "            b -= lr * (2/n) * diff\n",
    "            for j in range(len(theta)):\n",
    "                theta[j] -= lr * (2/n) * diff * xi[j]"
   ]
  },
  {
   "cell_type": "code",
   "execution_count": 8,
   "metadata": {},
   "outputs": [],
   "source": [
    "SLOPES = [2.5, 1.3, 6.4, 2.7]\n",
    "INTERCEPT = 6\n",
    "NOISE_STDDEV = 1.5\n",
    "\n",
    "def gen2(x):\n",
    "    pos = np.sum(SLOPES * x) + INTERCEPT\n",
    "    return np.random.normal(pos, NOISE_STDDEV)\n",
    "\n",
    "Xs = np.random.rand(2000, 4) * 4.0 - 2.0\n",
    "ys = np.array([gen2(x) for x in Xs])"
   ]
  },
  {
   "cell_type": "code",
   "execution_count": 9,
   "metadata": {},
   "outputs": [
    {
     "name": "stdout",
     "output_type": "stream",
     "text": [
      "final parameters:  [array([ 2.48911076,  1.28467769,  6.34022744,  2.74224512])\n",
      " 6.0268144773164023 2.2962710560258102]\n"
     ]
    },
    {
     "data": {
      "image/png": "[encoded data removed]",
      "text/plain": [
       "<matplotlib.figure.Figure at 0x111410860>"
      ]
     },
     "metadata": {},
     "output_type": "display_data"
    }
   ],
   "source": [
    "train_op = multiple_gradient_descent_1(Xs, ys)\n",
    "fit = np.array([next(train_op) for _ in range(30)])\n",
    "plt.plot(fit[:, 2], 'o')\n",
    "plt.title('cost function')\n",
    "print(\"final parameters: \", fit[-1])"
   ]
  },
  {
   "cell_type": "code",
   "execution_count": 10,
   "metadata": {
    "collapsed": true
   },
   "outputs": [],
   "source": [
    "# operate over all xs at once\n",
    "def multiple_gradient_descent_2(x: np.ndarray, y: np.ndarray, lr = 0.1):\n",
    "    \"\"\"Run gradient descent to fit a multivariate equation y^ = x * m + b\n",
    "    \n",
    "    Args:\n",
    "        x: input xs, ndarray with dims [:, f]\n",
    "        y: input ys, ndarray with dims [:, 1]\n",
    "        \n",
    "    Where `f` is number of input features.\n",
    "    At each step, yields `(theta, b, cost)` where theta is a vector (ndarray [f]) of current parameters, b is the bias param, and cost is the MSE for this step.\n",
    "    \"\"\"\n",
    "    theta = np.zeros(x.shape[1])\n",
    "    b = 0\n",
    "    n = len(x)\n",
    "    while True:\n",
    "        cost = mse(x, y, theta, b)\n",
    "        yield theta, b, cost\n",
    "        theta = np.copy(theta)\n",
    "        # compute the function for all inputs in one go\n",
    "        y_hat = x.dot(theta) + b\n",
    "        diff = y_hat - y\n",
    "        b -= lr * (2/n) * np.sum(diff)\n",
    "        for j in range(len(theta)):\n",
    "            theta[j] -= lr * (2/n) * np.sum(diff * x[:, j])"
   ]
  },
  {
   "cell_type": "code",
   "execution_count": 11,
   "metadata": {},
   "outputs": [
    {
     "name": "stdout",
     "output_type": "stream",
     "text": [
      "final parameters:  [array([ 2.48700526,  1.28786562,  6.34037619,  2.74297647])\n",
      " 6.0365675415311353 2.2959835940582649]\n"
     ]
    },
    {
     "data": {
      "image/png": "[encoded data removed]",
      "text/plain": [
       "<matplotlib.figure.Figure at 0x11167a0b8>"
      ]
     },
     "metadata": {},
     "output_type": "display_data"
    }
   ],
   "source": [
    "train_op = multiple_gradient_descent_2(Xs, ys)\n",
    "fit = np.array([next(train_op) for _ in range(30)])\n",
    "plt.plot(fit[:, 2], 'o')\n",
    "plt.title('cost function')\n",
    "print(\"final parameters: \", fit[-1])"
   ]
  },
  {
   "cell_type": "code",
   "execution_count": 21,
   "metadata": {
    "collapsed": true
   },
   "outputs": [],
   "source": [
    "# compute theta's update in one go\n",
    "def multiple_gradient_descent_3(x: np.ndarray, y: np.ndarray, lr = 0.1):\n",
    "    \"\"\"Run gradient descent to fit a multivariate equation y^ = x * m + b\n",
    "    \n",
    "    Args:\n",
    "        x: input xs, ndarray with dims [:, f]\n",
    "        y: input ys, ndarray with dims [:, 1]\n",
    "        \n",
    "    Where `f` is number of input features.\n",
    "    At each step, yields `(theta, b, cost)` where theta is a vector (ndarray [f]) of current parameters, b is the bias param, and cost is the MSE for this step.\n",
    "    \"\"\"\n",
    "    theta = np.zeros(x.shape[1])\n",
    "    b = 0\n",
    "    n = len(x)\n",
    "    while True:\n",
    "        cost = mse(x, y, theta, b)\n",
    "        yield theta, b, cost\n",
    "        # compute the function for all inputs in one go\n",
    "        y_hat = x.dot(theta) + b\n",
    "        diff = y_hat - y\n",
    "        b -= lr * (2/n) * np.sum(diff)\n",
    "        # update theta all at once with a matrix op\n",
    "        # theta.shape == (4, 1)\n",
    "        # x.shape == (40, 4)\n",
    "        # diff.shape == (40, 1)\n",
    "        # x.T.shape == (4, 40)\n",
    "        theta = theta - lr * (2/n) * x.T.dot(diff)"
   ]
  },
  {
   "cell_type": "code",
   "execution_count": 22,
   "metadata": {},
   "outputs": [
    {
     "name": "stdout",
     "output_type": "stream",
     "text": [
      "final parameters:  [array([ 2.48700526,  1.28786562,  6.34037619,  2.74297647])\n",
      " 6.0365675415311353 2.2959835940582649]\n"
     ]
    },
    {
     "data": {
      "text/plain": [
       "array([[array([ 0.,  0.,  0.,  0.]), 0, 117.16338492535064],\n",
       "       [array([ 0.72394609,  0.46971562,  1.7574616 ,  0.72586114]),\n",
       "        1.2295320396993477, 66.112299494024512],\n",
       "       [array([ 1.23736445,  0.77994499,  3.02781855,  1.25752225]),\n",
       "        2.2073586888742831, 38.127110617489251],\n",
       "       [array([ 1.60142762,  0.98254254,  3.94616801,  1.6474927 ]),\n",
       "        2.9854614808225945, 22.635441849560635],\n",
       "       [array([ 1.8595464 ,  1.11298017,  4.61009664,  1.93394329]),\n",
       "        3.6049628045810058, 13.97036377651172],\n",
       "       [array([ 2.04252365,  1.19541944,  5.09011007,  2.14465735]),\n",
       "        4.0984281068111592, 9.0710352416867792],\n",
       "       [array([ 2.17221347,  1.24623659,  5.4371581 ,  2.29988406]),\n",
       "        4.4916709635717549, 6.2701875856754201],\n",
       "       [array([ 2.26411915,  1.27646688,  5.6880656 ,  2.41440126]),\n",
       "        4.8051707686294884, 4.6512290897022117],\n",
       "       [array([ 2.32923733,  1.2934956 ,  5.86945298,  2.49900848]),\n",
       "        5.0551879328535856, 3.7052434028144035],\n",
       "       [array([ 2.37536707,  1.3022247 ,  6.00056695,  2.56160881]),\n",
       "        5.2546424240643157, 3.1466995241047897],\n",
       "       [array([ 2.40803887,  1.30587518,  6.09532488,  2.60799376]),\n",
       "        5.4138068113490867, 2.8136562510996281],\n",
       "       [array([ 2.43117404,  1.30653708,  6.1637917 ,  2.64241348]),\n",
       "        5.5408536672849173, 2.6132529686361576],\n",
       "       [array([ 2.44755247,  1.30554499,  6.21324695,  2.66799134]),\n",
       "        5.642288436136992, 2.4916559141325125],\n",
       "       [array([ 2.45914463,  1.30373314,  6.248956  ,  2.68702598]),\n",
       "        5.7232920976537676, 2.4173213415734627],\n",
       "       [array([ 2.46734701,  1.30160794,  6.27472743,  2.70121145]),\n",
       "        5.7879926899024108, 2.3715764360291445],\n",
       "       [array([ 2.47314913,  1.29946381,  6.29331616,  2.71179808]),\n",
       "        5.839680654198693, 2.3432608469006833],\n",
       "       [array([ 2.47725207,  1.29746042,  6.30671482,  2.71970997]),\n",
       "        5.8809797657782443, 2.3256448068240658],\n",
       "       [array([ 2.48015242,  1.29567374,  6.31636459,  2.72563113]),\n",
       "        5.9139829124871426, 2.3146373336707091],\n",
       "       [array([ 2.48220184,  1.29412935,  6.32330764,  2.73006856]),\n",
       "        5.9403600244803929, 2.307733481265569],\n",
       "       [array([ 2.48364937,  1.29282396,  6.32829749,  2.73339858]),\n",
       "        5.9614439205370431, 2.3033895848985528],\n",
       "       [array([ 2.48467128,  1.29173898,  6.3318788 ,  2.73590093]),\n",
       "        5.9782986282992097, 2.3006490090370231],\n",
       "       [array([ 2.48539231,  1.29084887,  6.33444514,  2.73778384]),\n",
       "        5.9917737846293946, 2.2989160127257828],\n",
       "       [array([ 2.48590075,  1.2901262 ,  6.33628078,  2.73920251]),\n",
       "        6.0025479725518762, 2.2978180389517884],\n",
       "       [array([ 2.48625902,  1.28954442,  6.33759093,  2.74027281]),\n",
       "        6.0111632594836992, 2.2971212631516025],\n",
       "       [array([ 2.48651127,  1.28907933,  6.33852367,  2.74108131]),\n",
       "        6.0180527338185907, 2.2966784817005572],\n",
       "       [array([ 2.48668873,  1.28870972,  6.33918575,  2.74169285]),\n",
       "        6.0235624669570882, 2.2963967815681197],\n",
       "       [array([ 2.48681343,  1.28841744,  6.33965405,  2.74215598]),\n",
       "        6.0279690348777413, 2.2962173879769527],\n",
       "       [array([ 2.48690096,  1.28818731,  6.33998392,  2.74250717]),\n",
       "        6.0314935010848361, 2.2961030520517083],\n",
       "       [array([ 2.48696232,  1.28800679,  6.34021512,  2.74277379]),\n",
       "        6.034312578497361, 2.2960301300121069],\n",
       "       [array([ 2.48700526,  1.28786562,  6.34037619,  2.74297647]),\n",
       "        6.0365675415311353, 2.2959835940582649]], dtype=object)"
      ]
     },
     "execution_count": 22,
     "metadata": {},
     "output_type": "execute_result"
    },
    {
     "data": {
      "image/png": "[encoded data removed]",
      "text/plain": [
       "<matplotlib.figure.Figure at 0x111e5b940>"
      ]
     },
     "metadata": {},
     "output_type": "display_data"
    }
   ],
   "source": [
    "train_op = multiple_gradient_descent_3(Xs, ys)\n",
    "fit = np.array([next(train_op) for _ in range(30)])\n",
    "plt.plot(fit[:, 2], 'o')\n",
    "plt.title('cost function')\n",
    "print(\"final parameters: \", fit[-1])\n",
    "fit"
   ]
  },
  {
   "cell_type": "code",
   "execution_count": null,
   "metadata": {
    "collapsed": true
   },
   "outputs": [],
   "source": []
  }
 ],
 "metadata": {
  "kernelspec": {
   "display_name": "Python 3",
   "language": "python",
   "name": "python3"
  },
  "language_info": {
   "codemirror_mode": {
    "name": "ipython",
    "version": 3
   },
   "file_extension": ".py",
   "mimetype": "text/x-python",
   "name": "python",
   "nbconvert_exporter": "python",
   "pygments_lexer": "ipython3",
   "version": "3.6.1"
  }
 },
 "nbformat": 4,
 "nbformat_minor": 2
}
